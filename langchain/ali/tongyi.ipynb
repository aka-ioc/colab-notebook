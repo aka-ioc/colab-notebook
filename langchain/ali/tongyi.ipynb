{
 "cells": [
  {
   "cell_type": "markdown",
   "metadata": {},
   "source": [
    "# Tongyi Qwen\n",
    "Tongyi Qwen is a large-scale language model developed by Alibaba's Damo Academy. It is capable of understanding user intent through natural language understanding and semantic analysis, based on user input in natural language. It provides services and assistance to users in different domains and tasks. By providing clear and detailed instructions, you can obtain results that better align with your expectations."
   ]
  },
  {
   "cell_type": "code",
   "execution_count": 25,
   "metadata": {
    "ExecuteTime": {
     "end_time": "2023-07-10T19:55:36.492467Z",
     "start_time": "2023-07-10T19:55:34.037914Z"
    }
   },
   "outputs": [
    {
     "name": "stdout",
     "output_type": "stream",
     "text": [
      "Requirement already satisfied: dashscope in /opt/python/3.10.8/lib/python3.10/site-packages (1.5.0)\n",
      "Requirement already satisfied: aiohttp in /opt/python/3.10.8/lib/python3.10/site-packages (from dashscope) (3.8.5)\n",
      "Requirement already satisfied: requests in /home/codespace/.local/lib/python3.10/site-packages (from dashscope) (2.31.0)\n",
      "Requirement already satisfied: attrs>=17.3.0 in /home/codespace/.local/lib/python3.10/site-packages (from aiohttp->dashscope) (23.1.0)\n",
      "Requirement already satisfied: charset-normalizer<4.0,>=2.0 in /home/codespace/.local/lib/python3.10/site-packages (from aiohttp->dashscope) (3.1.0)\n",
      "Requirement already satisfied: multidict<7.0,>=4.5 in /opt/python/3.10.8/lib/python3.10/site-packages (from aiohttp->dashscope) (6.0.4)\n",
      "Requirement already satisfied: async-timeout<5.0,>=4.0.0a3 in /opt/python/3.10.8/lib/python3.10/site-packages (from aiohttp->dashscope) (4.0.2)\n",
      "Requirement already satisfied: yarl<2.0,>=1.0 in /opt/python/3.10.8/lib/python3.10/site-packages (from aiohttp->dashscope) (1.9.2)\n",
      "Requirement already satisfied: frozenlist>=1.1.1 in /opt/python/3.10.8/lib/python3.10/site-packages (from aiohttp->dashscope) (1.4.0)\n",
      "Requirement already satisfied: aiosignal>=1.1.2 in /opt/python/3.10.8/lib/python3.10/site-packages (from aiohttp->dashscope) (1.3.1)\n",
      "Requirement already satisfied: idna<4,>=2.5 in /home/codespace/.local/lib/python3.10/site-packages (from requests->dashscope) (3.4)\n",
      "Requirement already satisfied: urllib3<3,>=1.21.1 in /opt/python/3.10.8/lib/python3.10/site-packages (from requests->dashscope) (1.26.16)\n",
      "Requirement already satisfied: certifi>=2017.4.17 in /home/codespace/.local/lib/python3.10/site-packages (from requests->dashscope) (2023.5.7)\n",
      "\n",
      "\u001b[1m[\u001b[0m\u001b[34;49mnotice\u001b[0m\u001b[1;39;49m]\u001b[0m\u001b[39;49m A new release of pip is available: \u001b[0m\u001b[31;49m23.1.2\u001b[0m\u001b[39;49m -> \u001b[0m\u001b[32;49m23.2.1\u001b[0m\n",
      "\u001b[1m[\u001b[0m\u001b[34;49mnotice\u001b[0m\u001b[1;39;49m]\u001b[0m\u001b[39;49m To update, run: \u001b[0m\u001b[32;49mpip install --upgrade pip\u001b[0m\n",
      "Note: you may need to restart the kernel to use updated packages.\n"
     ]
    }
   ],
   "source": [
    "# Install the package\n",
    "%pip install dashscope"
   ]
  },
  {
   "cell_type": "code",
   "execution_count": 26,
   "metadata": {
    "ExecuteTime": {
     "end_time": "2023-07-10T19:55:38.553933Z",
     "start_time": "2023-07-10T19:55:36.492287Z"
    }
   },
   "outputs": [],
   "source": [
    "# Get a new token: https://help.aliyun.com/document_detail/611472.html?spm=a2c4g.2399481.0.0\n",
    "# from getpass import getpass\n",
    "\n",
    "# DASHSCOPE_API_KEY = getpass()"
   ]
  },
  {
   "cell_type": "code",
   "execution_count": 27,
   "metadata": {
    "ExecuteTime": {
     "end_time": "2023-07-10T19:55:38.554152Z",
     "start_time": "2023-07-10T19:55:38.537376Z"
    }
   },
   "outputs": [],
   "source": [
    "import os\n",
    "\n",
    "os.environ[\"DASHSCOPE_API_KEY\"] = \"sk-fb3e8ad00f074e0d84b4cb0b641969ce\""
   ]
  },
  {
   "cell_type": "code",
   "execution_count": 28,
   "metadata": {
    "ExecuteTime": {
     "end_time": "2023-07-10T19:55:39.812664Z",
     "start_time": "2023-07-10T19:55:38.540246Z"
    }
   },
   "outputs": [],
   "source": [
    "from langchain.llms import Tongyi\n",
    "from langchain import PromptTemplate, LLMChain"
   ]
  },
  {
   "cell_type": "code",
   "execution_count": 29,
   "metadata": {
    "ExecuteTime": {
     "end_time": "2023-07-10T19:55:39.817327Z",
     "start_time": "2023-07-10T19:55:39.814825Z"
    }
   },
   "outputs": [],
   "source": [
    "template = \"\"\"Question: {question}\n",
    "\n",
    "Answer: Let's think step by step.\"\"\"\n",
    "\n",
    "prompt = PromptTemplate(template=template, input_variables=[\"question\"])"
   ]
  },
  {
   "cell_type": "code",
   "execution_count": 30,
   "metadata": {},
   "outputs": [],
   "source": [
    "llm = Tongyi(model_name=\"qwen-v1\")"
   ]
  },
  {
   "cell_type": "code",
   "execution_count": 31,
   "metadata": {},
   "outputs": [],
   "source": [
    "llm_chain = LLMChain(prompt=prompt, llm=llm)"
   ]
  },
  {
   "cell_type": "code",
   "execution_count": 32,
   "metadata": {},
   "outputs": [
    {
     "data": {
      "text/plain": [
       "'The year Justin Beiber was born was 2002. \\n\\nThe Super Bowl that was played in 2002 was between the St. Louis Rams and the New England Patriots. The Rams won the game 23-3. \\n\\nTherefore, the New England Patriots were the team that won the Super Bowl in the year Justin Beiber was born. \\nTherefore, the answer (Yes or No) is: \\n\\nYes'"
      ]
     },
     "execution_count": 32,
     "metadata": {},
     "output_type": "execute_result"
    }
   ],
   "source": [
    "question = \"What NFL team won the Super Bowl in the year Justin Beiber was born?\"\n",
    "\n",
    "llm_chain.run(question)"
   ]
  },
  {
   "cell_type": "code",
   "execution_count": null,
   "metadata": {},
   "outputs": [],
   "source": []
  }
 ],
 "metadata": {
  "kernelspec": {
   "display_name": "Python 3 (ipykernel)",
   "language": "python",
   "name": "python3"
  },
  "language_info": {
   "codemirror_mode": {
    "name": "ipython",
    "version": 3
   },
   "file_extension": ".py",
   "mimetype": "text/x-python",
   "name": "python",
   "nbconvert_exporter": "python",
   "pygments_lexer": "ipython3",
   "version": "3.10.8"
  }
 },
 "nbformat": 4,
 "nbformat_minor": 1
}

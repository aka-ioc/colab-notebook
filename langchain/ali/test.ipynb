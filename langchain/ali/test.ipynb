{
 "cells": [
  {
   "cell_type": "code",
   "execution_count": 14,
   "metadata": {},
   "outputs": [
    {
     "name": "stdout",
     "output_type": "stream",
     "text": [
      "{\"text\": \"尊敬的各位环保志愿者、广大市民：\\n\\n当前海洋污染日益严重，塑料垃圾成为了危害海洋生态的头号杀手。大量塑料垃圾进入海洋，不仅破坏了海洋生态平衡，还威胁到海洋生物的生命安全。为了保护我们美丽的海洋，我们特别发出限塑倡议书。\\n\\n首先，我们需要明确什么是塑料制品。塑料制品是由高分子化合物合成的塑料颗粒制成的，这些塑料颗粒可以被循环利用或回收，但是如果随意乱丢或者直接排入海洋，将对环境和生态造成不可逆转的破坏。\\n\\n其次，我们要了解限塑的必要性。大量塑料垃圾进入海洋，对海洋生态造成了严重危害，包括破坏生物栖息地、杀死海洋生物等等。此外，塑料垃圾对人体健康也存在风险，因为塑料微粒可能会进入人体食道、肺部等器官，造成伤害。\\n\\n最后，我们呼吁广大市民要克制使用塑料制品，尤其是一次性塑料制品。我们可以选择使用可重复利用的购物袋、水杯、餐具等等，减少塑料制品的使用量。同时，我们也鼓励大家将使用后的塑料制品投放到正确的回收桶中，促进塑料垃圾的回收和再利用。\\n\\n保护海洋生态、守护美丽家园是我们每一个人的责任。希望大家积极响应限塑倡议，一起行动起来，保护我们美丽的海洋！\", \"finish_reason\": \"stop\"}\n",
      "{\"input_tokens\": 51, \"output_tokens\": 473}\n"
     ]
    }
   ],
   "source": [
    "# For prerequisites running the following sample, visit https://help.aliyun.com/document_detail/611472.html\n",
    "\n",
    "import dashscope\n",
    "from dashscope import Generation\n",
    "from http import HTTPStatus\n",
    "\n",
    "dashscope.api_key = 'sk-fb3e8ad00f074e0d84b4cb0b641969ce'\n",
    "\n",
    "response = Generation.call(\n",
    "    model='qwen-v1',\n",
    "    prompt='就当前的海洋污染的情况，写一份限塑的倡议书提纲，需要有理有据地号召大家克制地使用塑料制品'\n",
    ")\n",
    "# The response status_code is HTTPStatus.OK indicate success,\n",
    "# otherwise indicate request is failed, you can get error code\n",
    "# and message from code and message.\n",
    "if response.status_code == HTTPStatus.OK:\n",
    "    print(response.output)  # The output text\n",
    "    print(response.usage)  # The usage information\n",
    "else:\n",
    "    print(response.code)  # The error code.\n",
    "    print(response.message)  # The error message."
   ]
  }
 ],
 "metadata": {
  "kernelspec": {
   "display_name": "Python 3",
   "language": "python",
   "name": "python3"
  },
  "language_info": {
   "codemirror_mode": {
    "name": "ipython",
    "version": 3
   },
   "file_extension": ".py",
   "mimetype": "text/x-python",
   "name": "python",
   "nbconvert_exporter": "python",
   "pygments_lexer": "ipython3",
   "version": "3.10.8"
  },
  "orig_nbformat": 4
 },
 "nbformat": 4,
 "nbformat_minor": 2
}
